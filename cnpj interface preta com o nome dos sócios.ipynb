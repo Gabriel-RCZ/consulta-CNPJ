{
 "cells": [
  {
   "cell_type": "code",
   "execution_count": 1,
   "id": "78274873",
   "metadata": {},
   "outputs": [],
   "source": [
    "import tkinter as tk\n",
    "import requests\n",
    "import re\n",
    "\n",
    "def get_cnpj_data(cnpj):\n",
    "    url = f'https://www.receitaws.com.br/v1/cnpj/{cnpj}'\n",
    "    response = requests.get(url)\n",
    "    if response.status_code == 200:\n",
    "        data = response.json()\n",
    "        return data\n",
    "    else:\n",
    "        return None\n",
    "\n",
    "def get_cnpj_partners(cnpj):\n",
    "    url = f'https://www.receitaws.com.br/v1/cnpj/{cnpj}'\n",
    "    response = requests.get(url)\n",
    "    if response.status_code == 200:\n",
    "        data = response.json()\n",
    "        partners = [qsa['nome'] for qsa in data['qsa']]\n",
    "        return partners\n",
    "    else:\n",
    "        return None\n",
    "\n",
    "def search_cnpj():\n",
    "    raw_cnpj = cnpj_entry.get()\n",
    "    cnpj = re.sub('[^0-9]', '', raw_cnpj)\n",
    "    data = get_cnpj_data(cnpj)\n",
    "    if data:\n",
    "        result_text = f'Razão social: {data[\"nome\"]}\\nEndereço: {data[\"logradouro\"]}, {data[\"numero\"]} - {data[\"bairro\"]}\\nCidade/UF: {data[\"municipio\"]} - {data[\"uf\"]}\\nCEP: {data[\"cep\"]}'\n",
    "        partners = get_cnpj_partners(cnpj)\n",
    "        if partners:\n",
    "            partners_text = 'Sócios: ' + ', '.join(partners)\n",
    "            result_text += '\\n' + partners_text\n",
    "    else:\n",
    "        result_text = 'CNPJ inválido, tente novamente.'\n",
    "    result_label.config(text=result_text)\n",
    "\n",
    "# Create the main window\n",
    "root = tk.Tk()\n",
    "root.title('Consulta CNPJ')\n",
    "root.configure(bg='black')\n",
    "\n",
    "# Create the input field for the CNPJ\n",
    "cnpj_entry = tk.Entry(root, width=20, bg='white', fg='black', font=('Helvetica', 14), bd=0)\n",
    "cnpj_entry.pack(pady=10)\n",
    "\n",
    "# Create the search button\n",
    "search_button = tk.Button(root, text='Consultar', command=search_cnpj, bg='#00ADEF', fg='white', font=('Helvetica', 14), bd=0, padx=20, pady=10)\n",
    "search_button.pack()\n",
    "\n",
    "# Create the label to display the results\n",
    "result_label = tk.Label(root, text='', justify='left', bg='black', fg='white', font=('Helvetica', 14), bd=0)\n",
    "result_label.pack(pady=10)\n",
    "\n",
    "# Start the main event loop\n",
    "root.mainloop()\n"
   ]
  },
  {
   "cell_type": "code",
   "execution_count": null,
   "id": "10d01b21",
   "metadata": {},
   "outputs": [],
   "source": []
  }
 ],
 "metadata": {
  "kernelspec": {
   "display_name": "Python 3 (ipykernel)",
   "language": "python",
   "name": "python3"
  },
  "language_info": {
   "codemirror_mode": {
    "name": "ipython",
    "version": 3
   },
   "file_extension": ".py",
   "mimetype": "text/x-python",
   "name": "python",
   "nbconvert_exporter": "python",
   "pygments_lexer": "ipython3",
   "version": "3.10.9"
  }
 },
 "nbformat": 4,
 "nbformat_minor": 5
}
